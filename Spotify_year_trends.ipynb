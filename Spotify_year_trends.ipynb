{
  "nbformat": 4,
  "nbformat_minor": 0,
  "metadata": {
    "colab": {
      "name": "Spotify-year-trends.ipynb",
      "provenance": [],
      "authorship_tag": "ABX9TyMtNnSItdET0TxG9v30wrS4",
      "include_colab_link": true
    },
    "kernelspec": {
      "name": "python3",
      "display_name": "Python 3"
    },
    "language_info": {
      "name": "python"
    }
  },
  "cells": [
    {
      "cell_type": "markdown",
      "metadata": {
        "id": "view-in-github",
        "colab_type": "text"
      },
      "source": [
        "<a href=\"https://colab.research.google.com/github/ladsong/if697-2020.2-data-science/blob/projeto1/Spotify_year_trends.ipynb\" target=\"_parent\"><img src=\"https://colab.research.google.com/assets/colab-badge.svg\" alt=\"Open In Colab\"/></a>"
      ]
    },
    {
      "cell_type": "code",
      "metadata": {
        "id": "4J8ZAZXtS5Re"
      },
      "source": [
        "import pandas as pd\n",
        "import numpy as np\n",
        "import matplotlib.pyplot as plt"
      ],
      "execution_count": null,
      "outputs": []
    },
    {
      "cell_type": "markdown",
      "metadata": {
        "id": "EK1jJyjRQZLr"
      },
      "source": [
        "# 1. Coleta"
      ]
    },
    {
      "cell_type": "markdown",
      "metadata": {
        "id": "nGhEugquQl5v"
      },
      "source": [
        "### Kaggle"
      ]
    },
    {
      "cell_type": "code",
      "metadata": {
        "colab": {
          "base_uri": "https://localhost:8080/"
        },
        "id": "zvdzWdQzNzM1",
        "outputId": "ac1461f0-8a56-406f-f13a-458152b746ed"
      },
      "source": [
        "from google.colab import drive\n",
        "drive.mount('/content/gdrive')"
      ],
      "execution_count": null,
      "outputs": [
        {
          "output_type": "stream",
          "text": [
            "Mounted at /content/gdrive\n"
          ],
          "name": "stdout"
        }
      ]
    },
    {
      "cell_type": "code",
      "metadata": {
        "colab": {
          "base_uri": "https://localhost:8080/"
        },
        "id": "VyreMdotOt_X",
        "outputId": "07f233ac-ca79-435d-8163-2a11d0d507d7"
      },
      "source": [
        "import os\n",
        "os.environ['KAGGLE_CONFIG_DIR'] = \"/content/gdrive/My Drive/Kaggle\"\n",
        "# /content/gdrive/My Drive/Kaggle é o caminho onde o arquivo kaggle.json está presente do Google Drive\n",
        "#Mudar o diretorio\n",
        "%cd /content/gdrive/My Drive/Kaggle"
      ],
      "execution_count": null,
      "outputs": [
        {
          "output_type": "stream",
          "text": [
            "/content/gdrive/My Drive/Kaggle\n"
          ],
          "name": "stdout"
        }
      ]
    },
    {
      "cell_type": "code",
      "metadata": {
        "colab": {
          "base_uri": "https://localhost:8080/"
        },
        "id": "GqYz3X2hPsxB",
        "outputId": "8e893103-223c-43ac-b590-ab11f8b0d854"
      },
      "source": [
        "!kaggle datasets download -d yamaerenay/spotify-dataset-19212020-160k-tracks"
      ],
      "execution_count": null,
      "outputs": [
        {
          "output_type": "stream",
          "text": [
            "Downloading spotify-dataset-19212020-160k-tracks.zip to /content/gdrive/My Drive/Kaggle\n",
            " 96% 187M/195M [00:02<00:00, 99.8MB/s]\n",
            "100% 195M/195M [00:02<00:00, 93.9MB/s]\n"
          ],
          "name": "stdout"
        }
      ]
    },
    {
      "cell_type": "code",
      "metadata": {
        "colab": {
          "base_uri": "https://localhost:8080/"
        },
        "id": "JEkad8ruQGcC",
        "outputId": "cb8dfe80-3896-4e2d-b5d4-f9c782c12b1a"
      },
      "source": [
        "#unzipping the zip files and deleting the zip files\n",
        "!unzip \\*.zip  && rm *.zip"
      ],
      "execution_count": null,
      "outputs": [
        {
          "output_type": "stream",
          "text": [
            "Archive:  spotify-dataset-19212020-160k-tracks.zip\n",
            "  inflating: artists.csv             \n",
            "  inflating: data_by_artist_o.csv    \n",
            "  inflating: data_by_genres_o.csv    \n",
            "  inflating: data_by_year_o.csv      \n",
            "  inflating: data_o.csv              \n",
            "  inflating: dict_artists.json       \n",
            "  inflating: tracks.csv              \n"
          ],
          "name": "stdout"
        }
      ]
    },
    {
      "cell_type": "code",
      "metadata": {
        "id": "82jmemaLStqT"
      },
      "source": [
        "df_artists = pd.read_csv('artists.csv')\n",
        "df_data_by_artist = pd.read_csv('data_by_artist_o.csv')\n",
        "df_data_by_genres = pd.read_csv('data_by_genres_o.csv')\n",
        "df_data_by_year = pd.read_csv('data_by_year_o.csv')\n",
        "df_data = pd.read_csv('data_o.csv')\n",
        "df_tracks = pd.read_csv('tracks.csv')"
      ],
      "execution_count": null,
      "outputs": []
    }
  ]
}