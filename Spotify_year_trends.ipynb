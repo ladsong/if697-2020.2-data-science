{
  "nbformat": 4,
  "nbformat_minor": 0,
  "metadata": {
    "colab": {
      "name": "Spotify-year-trends.ipynb",
      "provenance": [],
      "include_colab_link": true
    },
    "kernelspec": {
      "name": "python3",
      "display_name": "Python 3"
    },
    "language_info": {
      "name": "python"
    }
  },
  "cells": [
    {
      "cell_type": "markdown",
      "metadata": {
        "id": "view-in-github",
        "colab_type": "text"
      },
      "source": [
        "<a href=\"https://colab.research.google.com/github/ladsong/if697-2020.2-data-science/blob/projeto1/Spotify_year_trends.ipynb\" target=\"_parent\"><img src=\"https://colab.research.google.com/assets/colab-badge.svg\" alt=\"Open In Colab\"/></a>"
      ]
    },
    {
      "cell_type": "markdown",
      "metadata": {
        "id": "SdMzC_BtJs8I"
      },
      "source": [
        "# Análise de trends do Spotify\n",
        "O objetivo desse projeto é analisar os datasets do Spotify, [disponível no Kaggle](https://www.kaggle.com/yamaerenay/spotify-dataset-19212020-160k-tracks), para extrair informações como quais os gêneros mais escutados ao longo dos anos e suas caracteristicas musicais.\n",
        "\n",
        "Dos datasets fornecidos, iremos utilizar o `data_o.csv` e o `tracks.csv`, cujo já detém os dados que precisamos, como genero, ano, popularidade, [features do spotify](https://developer.spotify.com/documentation/web-api/reference/#endpoint-get-audio-features), etc.\n"
      ]
    },
    {
      "cell_type": "code",
      "metadata": {
        "id": "4J8ZAZXtS5Re"
      },
      "source": [
        "import pandas as pd\n",
        "import numpy as np\n",
        "import matplotlib.pyplot as plt\n",
        "import seaborn as sns"
      ],
      "execution_count": 44,
      "outputs": []
    },
    {
      "cell_type": "markdown",
      "metadata": {
        "id": "EK1jJyjRQZLr"
      },
      "source": [
        "# 1. Coleta\n",
        "Nesse primeiro momento iremos carregar o dataset do Kaggle em nosso notebook e analisar os dados enviados, para dá inicio ao pré processamento."
      ]
    },
    {
      "cell_type": "markdown",
      "metadata": {
        "id": "nGhEugquQl5v"
      },
      "source": [
        "### Kaggle"
      ]
    },
    {
      "cell_type": "code",
      "metadata": {
        "colab": {
          "base_uri": "https://localhost:8080/"
        },
        "id": "zvdzWdQzNzM1",
        "outputId": "fc136359-dcfd-403f-9cd9-626180379bb1"
      },
      "source": [
        "from google.colab import drive\n",
        "drive.mount('/content/gdrive')"
      ],
      "execution_count": null,
      "outputs": [
        {
          "output_type": "stream",
          "text": [
            "Mounted at /content/gdrive\n"
          ],
          "name": "stdout"
        }
      ]
    },
    {
      "cell_type": "code",
      "metadata": {
        "colab": {
          "base_uri": "https://localhost:8080/"
        },
        "id": "VyreMdotOt_X",
        "outputId": "5f0c339f-1a14-4c9e-cd4a-248753fb659d"
      },
      "source": [
        "import os\n",
        "os.environ['KAGGLE_CONFIG_DIR'] = \"/content/gdrive/My Drive/Kaggle\"\n",
        "# /content/gdrive/My Drive/Kaggle é o caminho onde o arquivo kaggle.json está presente do Google Drive\n",
        "#Mudar o diretorio\n",
        "%cd /content/gdrive/My Drive/Kaggle"
      ],
      "execution_count": null,
      "outputs": [
        {
          "output_type": "stream",
          "text": [
            "/content/gdrive/My Drive/Kaggle\n"
          ],
          "name": "stdout"
        }
      ]
    },
    {
      "cell_type": "code",
      "metadata": {
        "colab": {
          "base_uri": "https://localhost:8080/"
        },
        "id": "GqYz3X2hPsxB",
        "outputId": "8b2d27ff-0f70-4993-ed83-4d8927342f1c"
      },
      "source": [
        "!kaggle datasets download -d yamaerenay/spotify-dataset-19212020-160k-tracks"
      ],
      "execution_count": null,
      "outputs": [
        {
          "output_type": "stream",
          "text": [
            "Downloading spotify-dataset-19212020-160k-tracks.zip to /content/gdrive/My Drive/Kaggle\n",
            " 98% 191M/195M [00:02<00:00, 71.7MB/s]\n",
            "100% 195M/195M [00:02<00:00, 81.6MB/s]\n"
          ],
          "name": "stdout"
        }
      ]
    },
    {
      "cell_type": "code",
      "metadata": {
        "colab": {
          "base_uri": "https://localhost:8080/"
        },
        "id": "JEkad8ruQGcC",
        "outputId": "9fc6ad8d-b5ec-41b1-beeb-139ba52a563c"
      },
      "source": [
        "#unzipping the zip files and deleting the zip files\n",
        "!unzip \\*.zip  && rm *.zip"
      ],
      "execution_count": null,
      "outputs": [
        {
          "output_type": "stream",
          "text": [
            "Archive:  spotify-dataset-19212020-160k-tracks.zip\n",
            "replace artists.csv? [y]es, [n]o, [A]ll, [N]one, [r]ename: A\n",
            "  inflating: artists.csv             \n",
            "  inflating: data_by_artist_o.csv    \n",
            "  inflating: data_by_genres_o.csv    \n",
            "  inflating: data_by_year_o.csv      \n",
            "  inflating: data_o.csv              \n",
            "  inflating: dict_artists.json       \n",
            "  inflating: tracks.csv              \n"
          ],
          "name": "stdout"
        }
      ]
    },
    {
      "cell_type": "markdown",
      "metadata": {
        "id": "QRyTmAGny_wT"
      },
      "source": [
        "### Carregando o dataset"
      ]
    },
    {
      "cell_type": "code",
      "metadata": {
        "id": "82jmemaLStqT"
      },
      "source": [
        "df_data = pd.read_csv('data_o.csv')\n",
        "df_tracks = pd.read_csv('tracks.csv')\n",
        "df_data_by_genres = pd.read_csv('data_by_genres_o.csv')\n",
        "df_data_by_artist = pd.read_csv('data_by_artist_o.csv')\n",
        "df_data_by_year = pd.read_csv('data_by_year_o.csv')"
      ],
      "execution_count": 66,
      "outputs": []
    },
    {
      "cell_type": "code",
      "metadata": {
        "id": "wZ0ynwHKzi62",
        "colab": {
          "base_uri": "https://localhost:8080/",
          "height": 0
        },
        "outputId": "d49ab0ff-97bc-41b1-edd6-01e766585fb6"
      },
      "source": [
        "print(f\"DF - df_data:\")\n",
        "display(df_data.head())\n"
      ],
      "execution_count": 67,
      "outputs": [
        {
          "output_type": "stream",
          "text": [
            "DF - df_data:\n"
          ],
          "name": "stdout"
        },
        {
          "output_type": "display_data",
          "data": {
            "text/html": [
              "<div>\n",
              "<style scoped>\n",
              "    .dataframe tbody tr th:only-of-type {\n",
              "        vertical-align: middle;\n",
              "    }\n",
              "\n",
              "    .dataframe tbody tr th {\n",
              "        vertical-align: top;\n",
              "    }\n",
              "\n",
              "    .dataframe thead th {\n",
              "        text-align: right;\n",
              "    }\n",
              "</style>\n",
              "<table border=\"1\" class=\"dataframe\">\n",
              "  <thead>\n",
              "    <tr style=\"text-align: right;\">\n",
              "      <th></th>\n",
              "      <th>valence</th>\n",
              "      <th>year</th>\n",
              "      <th>acousticness</th>\n",
              "      <th>artists</th>\n",
              "      <th>danceability</th>\n",
              "      <th>duration_ms</th>\n",
              "      <th>energy</th>\n",
              "      <th>explicit</th>\n",
              "      <th>id</th>\n",
              "      <th>instrumentalness</th>\n",
              "      <th>key</th>\n",
              "      <th>liveness</th>\n",
              "      <th>loudness</th>\n",
              "      <th>mode</th>\n",
              "      <th>name</th>\n",
              "      <th>popularity</th>\n",
              "      <th>release_date</th>\n",
              "      <th>speechiness</th>\n",
              "      <th>tempo</th>\n",
              "    </tr>\n",
              "  </thead>\n",
              "  <tbody>\n",
              "    <tr>\n",
              "      <th>0</th>\n",
              "      <td>0.0594</td>\n",
              "      <td>1921</td>\n",
              "      <td>0.982</td>\n",
              "      <td>['Sergei Rachmaninoff', 'James Levine', 'Berli...</td>\n",
              "      <td>0.279</td>\n",
              "      <td>831667</td>\n",
              "      <td>0.211</td>\n",
              "      <td>0</td>\n",
              "      <td>4BJqT0PrAfrxzMOxytFOIz</td>\n",
              "      <td>0.878000</td>\n",
              "      <td>10</td>\n",
              "      <td>0.665</td>\n",
              "      <td>-20.096</td>\n",
              "      <td>1</td>\n",
              "      <td>Piano Concerto No. 3 in D Minor, Op. 30: III. ...</td>\n",
              "      <td>4</td>\n",
              "      <td>1921</td>\n",
              "      <td>0.0366</td>\n",
              "      <td>80.954</td>\n",
              "    </tr>\n",
              "    <tr>\n",
              "      <th>1</th>\n",
              "      <td>0.9630</td>\n",
              "      <td>1921</td>\n",
              "      <td>0.732</td>\n",
              "      <td>['Dennis Day']</td>\n",
              "      <td>0.819</td>\n",
              "      <td>180533</td>\n",
              "      <td>0.341</td>\n",
              "      <td>0</td>\n",
              "      <td>7xPhfUan2yNtyFG0cUWkt8</td>\n",
              "      <td>0.000000</td>\n",
              "      <td>7</td>\n",
              "      <td>0.160</td>\n",
              "      <td>-12.441</td>\n",
              "      <td>1</td>\n",
              "      <td>Clancy Lowered the Boom</td>\n",
              "      <td>5</td>\n",
              "      <td>1921</td>\n",
              "      <td>0.4150</td>\n",
              "      <td>60.936</td>\n",
              "    </tr>\n",
              "    <tr>\n",
              "      <th>2</th>\n",
              "      <td>0.0394</td>\n",
              "      <td>1921</td>\n",
              "      <td>0.961</td>\n",
              "      <td>['KHP Kridhamardawa Karaton Ngayogyakarta Hadi...</td>\n",
              "      <td>0.328</td>\n",
              "      <td>500062</td>\n",
              "      <td>0.166</td>\n",
              "      <td>0</td>\n",
              "      <td>1o6I8BglA6ylDMrIELygv1</td>\n",
              "      <td>0.913000</td>\n",
              "      <td>3</td>\n",
              "      <td>0.101</td>\n",
              "      <td>-14.850</td>\n",
              "      <td>1</td>\n",
              "      <td>Gati Bali</td>\n",
              "      <td>5</td>\n",
              "      <td>1921</td>\n",
              "      <td>0.0339</td>\n",
              "      <td>110.339</td>\n",
              "    </tr>\n",
              "    <tr>\n",
              "      <th>3</th>\n",
              "      <td>0.1650</td>\n",
              "      <td>1921</td>\n",
              "      <td>0.967</td>\n",
              "      <td>['Frank Parker']</td>\n",
              "      <td>0.275</td>\n",
              "      <td>210000</td>\n",
              "      <td>0.309</td>\n",
              "      <td>0</td>\n",
              "      <td>3ftBPsC5vPBKxYSee08FDH</td>\n",
              "      <td>0.000028</td>\n",
              "      <td>5</td>\n",
              "      <td>0.381</td>\n",
              "      <td>-9.316</td>\n",
              "      <td>1</td>\n",
              "      <td>Danny Boy</td>\n",
              "      <td>3</td>\n",
              "      <td>1921</td>\n",
              "      <td>0.0354</td>\n",
              "      <td>100.109</td>\n",
              "    </tr>\n",
              "    <tr>\n",
              "      <th>4</th>\n",
              "      <td>0.2530</td>\n",
              "      <td>1921</td>\n",
              "      <td>0.957</td>\n",
              "      <td>['Phil Regan']</td>\n",
              "      <td>0.418</td>\n",
              "      <td>166693</td>\n",
              "      <td>0.193</td>\n",
              "      <td>0</td>\n",
              "      <td>4d6HGyGT8e121BsdKmw9v6</td>\n",
              "      <td>0.000002</td>\n",
              "      <td>3</td>\n",
              "      <td>0.229</td>\n",
              "      <td>-10.096</td>\n",
              "      <td>1</td>\n",
              "      <td>When Irish Eyes Are Smiling</td>\n",
              "      <td>2</td>\n",
              "      <td>1921</td>\n",
              "      <td>0.0380</td>\n",
              "      <td>101.665</td>\n",
              "    </tr>\n",
              "  </tbody>\n",
              "</table>\n",
              "</div>"
            ],
            "text/plain": [
              "   valence  year  acousticness  ... release_date  speechiness    tempo\n",
              "0   0.0594  1921         0.982  ...         1921       0.0366   80.954\n",
              "1   0.9630  1921         0.732  ...         1921       0.4150   60.936\n",
              "2   0.0394  1921         0.961  ...         1921       0.0339  110.339\n",
              "3   0.1650  1921         0.967  ...         1921       0.0354  100.109\n",
              "4   0.2530  1921         0.957  ...         1921       0.0380  101.665\n",
              "\n",
              "[5 rows x 19 columns]"
            ]
          },
          "metadata": {
            "tags": []
          }
        }
      ]
    },
    {
      "cell_type": "code",
      "metadata": {
        "id": "qYkI84TkaV_L",
        "colab": {
          "base_uri": "https://localhost:8080/",
          "height": 0
        },
        "outputId": "c92029f0-37ca-4597-b7f9-87372487fb10"
      },
      "source": [
        "print(f\"# DF - df_tracks:\")\n",
        "display(df_tracks.head())"
      ],
      "execution_count": 68,
      "outputs": [
        {
          "output_type": "stream",
          "text": [
            "# DF - df_tracks:\n"
          ],
          "name": "stdout"
        },
        {
          "output_type": "display_data",
          "data": {
            "text/html": [
              "<div>\n",
              "<style scoped>\n",
              "    .dataframe tbody tr th:only-of-type {\n",
              "        vertical-align: middle;\n",
              "    }\n",
              "\n",
              "    .dataframe tbody tr th {\n",
              "        vertical-align: top;\n",
              "    }\n",
              "\n",
              "    .dataframe thead th {\n",
              "        text-align: right;\n",
              "    }\n",
              "</style>\n",
              "<table border=\"1\" class=\"dataframe\">\n",
              "  <thead>\n",
              "    <tr style=\"text-align: right;\">\n",
              "      <th></th>\n",
              "      <th>id</th>\n",
              "      <th>name</th>\n",
              "      <th>popularity</th>\n",
              "      <th>duration_ms</th>\n",
              "      <th>explicit</th>\n",
              "      <th>artists</th>\n",
              "      <th>id_artists</th>\n",
              "      <th>release_date</th>\n",
              "      <th>danceability</th>\n",
              "      <th>energy</th>\n",
              "      <th>key</th>\n",
              "      <th>loudness</th>\n",
              "      <th>mode</th>\n",
              "      <th>speechiness</th>\n",
              "      <th>acousticness</th>\n",
              "      <th>instrumentalness</th>\n",
              "      <th>liveness</th>\n",
              "      <th>valence</th>\n",
              "      <th>tempo</th>\n",
              "      <th>time_signature</th>\n",
              "    </tr>\n",
              "  </thead>\n",
              "  <tbody>\n",
              "    <tr>\n",
              "      <th>0</th>\n",
              "      <td>35iwgR4jXetI318WEWsa1Q</td>\n",
              "      <td>Carve</td>\n",
              "      <td>6</td>\n",
              "      <td>126903</td>\n",
              "      <td>0</td>\n",
              "      <td>['Uli']</td>\n",
              "      <td>['45tIt06XoI0Iio4LBEVpls']</td>\n",
              "      <td>1922-02-22</td>\n",
              "      <td>0.645</td>\n",
              "      <td>0.4450</td>\n",
              "      <td>0</td>\n",
              "      <td>-13.338</td>\n",
              "      <td>1</td>\n",
              "      <td>0.4510</td>\n",
              "      <td>0.674</td>\n",
              "      <td>0.7440</td>\n",
              "      <td>0.151</td>\n",
              "      <td>0.127</td>\n",
              "      <td>104.851</td>\n",
              "      <td>3</td>\n",
              "    </tr>\n",
              "    <tr>\n",
              "      <th>1</th>\n",
              "      <td>021ht4sdgPcrDgSk7JTbKY</td>\n",
              "      <td>Capítulo 2.16 - Banquero Anarquista</td>\n",
              "      <td>0</td>\n",
              "      <td>98200</td>\n",
              "      <td>0</td>\n",
              "      <td>['Fernando Pessoa']</td>\n",
              "      <td>['14jtPCOoNZwquk5wd9DxrY']</td>\n",
              "      <td>1922-06-01</td>\n",
              "      <td>0.695</td>\n",
              "      <td>0.2630</td>\n",
              "      <td>0</td>\n",
              "      <td>-22.136</td>\n",
              "      <td>1</td>\n",
              "      <td>0.9570</td>\n",
              "      <td>0.797</td>\n",
              "      <td>0.0000</td>\n",
              "      <td>0.148</td>\n",
              "      <td>0.655</td>\n",
              "      <td>102.009</td>\n",
              "      <td>1</td>\n",
              "    </tr>\n",
              "    <tr>\n",
              "      <th>2</th>\n",
              "      <td>07A5yehtSnoedViJAZkNnc</td>\n",
              "      <td>Vivo para Quererte - Remasterizado</td>\n",
              "      <td>0</td>\n",
              "      <td>181640</td>\n",
              "      <td>0</td>\n",
              "      <td>['Ignacio Corsini']</td>\n",
              "      <td>['5LiOoJbxVSAMkBS2fUm3X2']</td>\n",
              "      <td>1922-03-21</td>\n",
              "      <td>0.434</td>\n",
              "      <td>0.1770</td>\n",
              "      <td>1</td>\n",
              "      <td>-21.180</td>\n",
              "      <td>1</td>\n",
              "      <td>0.0512</td>\n",
              "      <td>0.994</td>\n",
              "      <td>0.0218</td>\n",
              "      <td>0.212</td>\n",
              "      <td>0.457</td>\n",
              "      <td>130.418</td>\n",
              "      <td>5</td>\n",
              "    </tr>\n",
              "    <tr>\n",
              "      <th>3</th>\n",
              "      <td>08FmqUhxtyLTn6pAh6bk45</td>\n",
              "      <td>El Prisionero - Remasterizado</td>\n",
              "      <td>0</td>\n",
              "      <td>176907</td>\n",
              "      <td>0</td>\n",
              "      <td>['Ignacio Corsini']</td>\n",
              "      <td>['5LiOoJbxVSAMkBS2fUm3X2']</td>\n",
              "      <td>1922-03-21</td>\n",
              "      <td>0.321</td>\n",
              "      <td>0.0946</td>\n",
              "      <td>7</td>\n",
              "      <td>-27.961</td>\n",
              "      <td>1</td>\n",
              "      <td>0.0504</td>\n",
              "      <td>0.995</td>\n",
              "      <td>0.9180</td>\n",
              "      <td>0.104</td>\n",
              "      <td>0.397</td>\n",
              "      <td>169.980</td>\n",
              "      <td>3</td>\n",
              "    </tr>\n",
              "    <tr>\n",
              "      <th>4</th>\n",
              "      <td>08y9GfoqCWfOGsKdwojr5e</td>\n",
              "      <td>Lady of the Evening</td>\n",
              "      <td>0</td>\n",
              "      <td>163080</td>\n",
              "      <td>0</td>\n",
              "      <td>['Dick Haymes']</td>\n",
              "      <td>['3BiJGZsyX9sJchTqcSA7Su']</td>\n",
              "      <td>1922</td>\n",
              "      <td>0.402</td>\n",
              "      <td>0.1580</td>\n",
              "      <td>3</td>\n",
              "      <td>-16.900</td>\n",
              "      <td>0</td>\n",
              "      <td>0.0390</td>\n",
              "      <td>0.989</td>\n",
              "      <td>0.1300</td>\n",
              "      <td>0.311</td>\n",
              "      <td>0.196</td>\n",
              "      <td>103.220</td>\n",
              "      <td>4</td>\n",
              "    </tr>\n",
              "  </tbody>\n",
              "</table>\n",
              "</div>"
            ],
            "text/plain": [
              "                       id  ... time_signature\n",
              "0  35iwgR4jXetI318WEWsa1Q  ...              3\n",
              "1  021ht4sdgPcrDgSk7JTbKY  ...              1\n",
              "2  07A5yehtSnoedViJAZkNnc  ...              5\n",
              "3  08FmqUhxtyLTn6pAh6bk45  ...              3\n",
              "4  08y9GfoqCWfOGsKdwojr5e  ...              4\n",
              "\n",
              "[5 rows x 20 columns]"
            ]
          },
          "metadata": {
            "tags": []
          }
        }
      ]
    },
    {
      "cell_type": "code",
      "metadata": {
        "id": "8dfeqe3cJ2T_",
        "colab": {
          "base_uri": "https://localhost:8080/",
          "height": 0
        },
        "outputId": "b25b40e5-cb4f-4d20-c99d-43b30e7ec418"
      },
      "source": [
        "print(f\"# DF - df_data_by_artist:\")\n",
        "display(df_data_by_artist.head())"
      ],
      "execution_count": 69,
      "outputs": [
        {
          "output_type": "stream",
          "text": [
            "# DF - df_data_by_artist:\n"
          ],
          "name": "stdout"
        },
        {
          "output_type": "display_data",
          "data": {
            "text/html": [
              "<div>\n",
              "<style scoped>\n",
              "    .dataframe tbody tr th:only-of-type {\n",
              "        vertical-align: middle;\n",
              "    }\n",
              "\n",
              "    .dataframe tbody tr th {\n",
              "        vertical-align: top;\n",
              "    }\n",
              "\n",
              "    .dataframe thead th {\n",
              "        text-align: right;\n",
              "    }\n",
              "</style>\n",
              "<table border=\"1\" class=\"dataframe\">\n",
              "  <thead>\n",
              "    <tr style=\"text-align: right;\">\n",
              "      <th></th>\n",
              "      <th>genres</th>\n",
              "      <th>artists</th>\n",
              "      <th>acousticness</th>\n",
              "      <th>danceability</th>\n",
              "      <th>duration_ms</th>\n",
              "      <th>energy</th>\n",
              "      <th>instrumentalness</th>\n",
              "      <th>liveness</th>\n",
              "      <th>loudness</th>\n",
              "      <th>speechiness</th>\n",
              "      <th>tempo</th>\n",
              "      <th>valence</th>\n",
              "      <th>popularity</th>\n",
              "      <th>key</th>\n",
              "      <th>mode</th>\n",
              "      <th>count</th>\n",
              "    </tr>\n",
              "  </thead>\n",
              "  <tbody>\n",
              "    <tr>\n",
              "      <th>0</th>\n",
              "      <td>['show tunes']</td>\n",
              "      <td>\"Cats\" 1981 Original London Cast</td>\n",
              "      <td>0.590111</td>\n",
              "      <td>0.467222</td>\n",
              "      <td>250318.555556</td>\n",
              "      <td>0.394003</td>\n",
              "      <td>0.011400</td>\n",
              "      <td>0.290833</td>\n",
              "      <td>-14.448000</td>\n",
              "      <td>0.210389</td>\n",
              "      <td>117.518111</td>\n",
              "      <td>0.389500</td>\n",
              "      <td>38.333333</td>\n",
              "      <td>5</td>\n",
              "      <td>1</td>\n",
              "      <td>9</td>\n",
              "    </tr>\n",
              "    <tr>\n",
              "      <th>1</th>\n",
              "      <td>[]</td>\n",
              "      <td>\"Cats\" 1983 Broadway Cast</td>\n",
              "      <td>0.862538</td>\n",
              "      <td>0.441731</td>\n",
              "      <td>287280.000000</td>\n",
              "      <td>0.406808</td>\n",
              "      <td>0.081158</td>\n",
              "      <td>0.315215</td>\n",
              "      <td>-10.690000</td>\n",
              "      <td>0.176212</td>\n",
              "      <td>103.044154</td>\n",
              "      <td>0.268865</td>\n",
              "      <td>30.576923</td>\n",
              "      <td>5</td>\n",
              "      <td>1</td>\n",
              "      <td>26</td>\n",
              "    </tr>\n",
              "    <tr>\n",
              "      <th>2</th>\n",
              "      <td>[]</td>\n",
              "      <td>\"Fiddler On The Roof” Motion Picture Chorus</td>\n",
              "      <td>0.856571</td>\n",
              "      <td>0.348286</td>\n",
              "      <td>328920.000000</td>\n",
              "      <td>0.286571</td>\n",
              "      <td>0.024593</td>\n",
              "      <td>0.325786</td>\n",
              "      <td>-15.230714</td>\n",
              "      <td>0.118514</td>\n",
              "      <td>77.375857</td>\n",
              "      <td>0.354857</td>\n",
              "      <td>34.857143</td>\n",
              "      <td>0</td>\n",
              "      <td>1</td>\n",
              "      <td>7</td>\n",
              "    </tr>\n",
              "    <tr>\n",
              "      <th>3</th>\n",
              "      <td>[]</td>\n",
              "      <td>\"Fiddler On The Roof” Motion Picture Orchestra</td>\n",
              "      <td>0.884926</td>\n",
              "      <td>0.425074</td>\n",
              "      <td>262890.962963</td>\n",
              "      <td>0.245770</td>\n",
              "      <td>0.073587</td>\n",
              "      <td>0.275481</td>\n",
              "      <td>-15.639370</td>\n",
              "      <td>0.123200</td>\n",
              "      <td>88.667630</td>\n",
              "      <td>0.372030</td>\n",
              "      <td>34.851852</td>\n",
              "      <td>0</td>\n",
              "      <td>1</td>\n",
              "      <td>27</td>\n",
              "    </tr>\n",
              "    <tr>\n",
              "      <th>4</th>\n",
              "      <td>[]</td>\n",
              "      <td>\"Joseph And The Amazing Technicolor Dreamcoat\"...</td>\n",
              "      <td>0.510714</td>\n",
              "      <td>0.467143</td>\n",
              "      <td>270436.142857</td>\n",
              "      <td>0.488286</td>\n",
              "      <td>0.009400</td>\n",
              "      <td>0.195000</td>\n",
              "      <td>-10.236714</td>\n",
              "      <td>0.098543</td>\n",
              "      <td>122.835857</td>\n",
              "      <td>0.482286</td>\n",
              "      <td>43.000000</td>\n",
              "      <td>5</td>\n",
              "      <td>1</td>\n",
              "      <td>7</td>\n",
              "    </tr>\n",
              "  </tbody>\n",
              "</table>\n",
              "</div>"
            ],
            "text/plain": [
              "           genres  ... count\n",
              "0  ['show tunes']  ...     9\n",
              "1              []  ...    26\n",
              "2              []  ...     7\n",
              "3              []  ...    27\n",
              "4              []  ...     7\n",
              "\n",
              "[5 rows x 16 columns]"
            ]
          },
          "metadata": {
            "tags": []
          }
        }
      ]
    },
    {
      "cell_type": "code",
      "metadata": {
        "id": "1arqUG2HPOda",
        "colab": {
          "base_uri": "https://localhost:8080/",
          "height": 0
        },
        "outputId": "3204d4df-8b23-47d9-cba4-7c43def721ff"
      },
      "source": [
        "print(f\"# DF - df_data_by_year:\")\n",
        "display(df_data_by_year.head())"
      ],
      "execution_count": 70,
      "outputs": [
        {
          "output_type": "stream",
          "text": [
            "# DF - df_data_by_year:\n"
          ],
          "name": "stdout"
        },
        {
          "output_type": "display_data",
          "data": {
            "text/html": [
              "<div>\n",
              "<style scoped>\n",
              "    .dataframe tbody tr th:only-of-type {\n",
              "        vertical-align: middle;\n",
              "    }\n",
              "\n",
              "    .dataframe tbody tr th {\n",
              "        vertical-align: top;\n",
              "    }\n",
              "\n",
              "    .dataframe thead th {\n",
              "        text-align: right;\n",
              "    }\n",
              "</style>\n",
              "<table border=\"1\" class=\"dataframe\">\n",
              "  <thead>\n",
              "    <tr style=\"text-align: right;\">\n",
              "      <th></th>\n",
              "      <th>mode</th>\n",
              "      <th>year</th>\n",
              "      <th>acousticness</th>\n",
              "      <th>danceability</th>\n",
              "      <th>duration_ms</th>\n",
              "      <th>energy</th>\n",
              "      <th>instrumentalness</th>\n",
              "      <th>liveness</th>\n",
              "      <th>loudness</th>\n",
              "      <th>speechiness</th>\n",
              "      <th>tempo</th>\n",
              "      <th>valence</th>\n",
              "      <th>popularity</th>\n",
              "      <th>key</th>\n",
              "    </tr>\n",
              "  </thead>\n",
              "  <tbody>\n",
              "    <tr>\n",
              "      <th>0</th>\n",
              "      <td>1</td>\n",
              "      <td>1921</td>\n",
              "      <td>0.886896</td>\n",
              "      <td>0.418597</td>\n",
              "      <td>260537.166667</td>\n",
              "      <td>0.231815</td>\n",
              "      <td>0.344878</td>\n",
              "      <td>0.205710</td>\n",
              "      <td>-17.048667</td>\n",
              "      <td>0.073662</td>\n",
              "      <td>101.531493</td>\n",
              "      <td>0.379327</td>\n",
              "      <td>0.653333</td>\n",
              "      <td>2</td>\n",
              "    </tr>\n",
              "    <tr>\n",
              "      <th>1</th>\n",
              "      <td>1</td>\n",
              "      <td>1922</td>\n",
              "      <td>0.938592</td>\n",
              "      <td>0.482042</td>\n",
              "      <td>165469.746479</td>\n",
              "      <td>0.237815</td>\n",
              "      <td>0.434195</td>\n",
              "      <td>0.240720</td>\n",
              "      <td>-19.275282</td>\n",
              "      <td>0.116655</td>\n",
              "      <td>100.884521</td>\n",
              "      <td>0.535549</td>\n",
              "      <td>0.140845</td>\n",
              "      <td>10</td>\n",
              "    </tr>\n",
              "    <tr>\n",
              "      <th>2</th>\n",
              "      <td>1</td>\n",
              "      <td>1923</td>\n",
              "      <td>0.957247</td>\n",
              "      <td>0.577341</td>\n",
              "      <td>177942.362162</td>\n",
              "      <td>0.262406</td>\n",
              "      <td>0.371733</td>\n",
              "      <td>0.227462</td>\n",
              "      <td>-14.129211</td>\n",
              "      <td>0.093949</td>\n",
              "      <td>114.010730</td>\n",
              "      <td>0.625492</td>\n",
              "      <td>5.389189</td>\n",
              "      <td>0</td>\n",
              "    </tr>\n",
              "    <tr>\n",
              "      <th>3</th>\n",
              "      <td>1</td>\n",
              "      <td>1924</td>\n",
              "      <td>0.940200</td>\n",
              "      <td>0.549894</td>\n",
              "      <td>191046.707627</td>\n",
              "      <td>0.344347</td>\n",
              "      <td>0.581701</td>\n",
              "      <td>0.235219</td>\n",
              "      <td>-14.231343</td>\n",
              "      <td>0.092089</td>\n",
              "      <td>120.689572</td>\n",
              "      <td>0.663725</td>\n",
              "      <td>0.661017</td>\n",
              "      <td>10</td>\n",
              "    </tr>\n",
              "    <tr>\n",
              "      <th>4</th>\n",
              "      <td>1</td>\n",
              "      <td>1925</td>\n",
              "      <td>0.962607</td>\n",
              "      <td>0.573863</td>\n",
              "      <td>184986.924460</td>\n",
              "      <td>0.278594</td>\n",
              "      <td>0.418297</td>\n",
              "      <td>0.237668</td>\n",
              "      <td>-14.146414</td>\n",
              "      <td>0.111918</td>\n",
              "      <td>115.521921</td>\n",
              "      <td>0.621929</td>\n",
              "      <td>2.604317</td>\n",
              "      <td>5</td>\n",
              "    </tr>\n",
              "  </tbody>\n",
              "</table>\n",
              "</div>"
            ],
            "text/plain": [
              "   mode  year  acousticness  ...   valence  popularity  key\n",
              "0     1  1921      0.886896  ...  0.379327    0.653333    2\n",
              "1     1  1922      0.938592  ...  0.535549    0.140845   10\n",
              "2     1  1923      0.957247  ...  0.625492    5.389189    0\n",
              "3     1  1924      0.940200  ...  0.663725    0.661017   10\n",
              "4     1  1925      0.962607  ...  0.621929    2.604317    5\n",
              "\n",
              "[5 rows x 14 columns]"
            ]
          },
          "metadata": {
            "tags": []
          }
        }
      ]
    },
    {
      "cell_type": "code",
      "metadata": {
        "id": "uG3OCWdI1Jnj",
        "colab": {
          "base_uri": "https://localhost:8080/",
          "height": 0
        },
        "outputId": "884e415c-85c1-4157-be2e-bb185f754566"
      },
      "source": [
        "print(f\"# DF - df_data_by_genre:\")\n",
        "display(df_data_by_genres.head())"
      ],
      "execution_count": 71,
      "outputs": [
        {
          "output_type": "stream",
          "text": [
            "# DF - df_data_by_genre:\n"
          ],
          "name": "stdout"
        },
        {
          "output_type": "display_data",
          "data": {
            "text/html": [
              "<div>\n",
              "<style scoped>\n",
              "    .dataframe tbody tr th:only-of-type {\n",
              "        vertical-align: middle;\n",
              "    }\n",
              "\n",
              "    .dataframe tbody tr th {\n",
              "        vertical-align: top;\n",
              "    }\n",
              "\n",
              "    .dataframe thead th {\n",
              "        text-align: right;\n",
              "    }\n",
              "</style>\n",
              "<table border=\"1\" class=\"dataframe\">\n",
              "  <thead>\n",
              "    <tr style=\"text-align: right;\">\n",
              "      <th></th>\n",
              "      <th>mode</th>\n",
              "      <th>genres</th>\n",
              "      <th>acousticness</th>\n",
              "      <th>danceability</th>\n",
              "      <th>duration_ms</th>\n",
              "      <th>energy</th>\n",
              "      <th>instrumentalness</th>\n",
              "      <th>liveness</th>\n",
              "      <th>loudness</th>\n",
              "      <th>speechiness</th>\n",
              "      <th>tempo</th>\n",
              "      <th>valence</th>\n",
              "      <th>popularity</th>\n",
              "      <th>key</th>\n",
              "    </tr>\n",
              "  </thead>\n",
              "  <tbody>\n",
              "    <tr>\n",
              "      <th>0</th>\n",
              "      <td>1</td>\n",
              "      <td>21st century classical</td>\n",
              "      <td>0.979333</td>\n",
              "      <td>0.162883</td>\n",
              "      <td>1.602977e+05</td>\n",
              "      <td>0.071317</td>\n",
              "      <td>0.606834</td>\n",
              "      <td>0.361600</td>\n",
              "      <td>-31.514333</td>\n",
              "      <td>0.040567</td>\n",
              "      <td>75.336500</td>\n",
              "      <td>0.103783</td>\n",
              "      <td>27.833333</td>\n",
              "      <td>6</td>\n",
              "    </tr>\n",
              "    <tr>\n",
              "      <th>1</th>\n",
              "      <td>1</td>\n",
              "      <td>432hz</td>\n",
              "      <td>0.494780</td>\n",
              "      <td>0.299333</td>\n",
              "      <td>1.048887e+06</td>\n",
              "      <td>0.450678</td>\n",
              "      <td>0.477762</td>\n",
              "      <td>0.131000</td>\n",
              "      <td>-16.854000</td>\n",
              "      <td>0.076817</td>\n",
              "      <td>120.285667</td>\n",
              "      <td>0.221750</td>\n",
              "      <td>52.500000</td>\n",
              "      <td>5</td>\n",
              "    </tr>\n",
              "    <tr>\n",
              "      <th>2</th>\n",
              "      <td>1</td>\n",
              "      <td>8-bit</td>\n",
              "      <td>0.762000</td>\n",
              "      <td>0.712000</td>\n",
              "      <td>1.151770e+05</td>\n",
              "      <td>0.818000</td>\n",
              "      <td>0.876000</td>\n",
              "      <td>0.126000</td>\n",
              "      <td>-9.180000</td>\n",
              "      <td>0.047000</td>\n",
              "      <td>133.444000</td>\n",
              "      <td>0.975000</td>\n",
              "      <td>48.000000</td>\n",
              "      <td>7</td>\n",
              "    </tr>\n",
              "    <tr>\n",
              "      <th>3</th>\n",
              "      <td>1</td>\n",
              "      <td>[]</td>\n",
              "      <td>0.651417</td>\n",
              "      <td>0.529093</td>\n",
              "      <td>2.328809e+05</td>\n",
              "      <td>0.419146</td>\n",
              "      <td>0.205309</td>\n",
              "      <td>0.218696</td>\n",
              "      <td>-12.288965</td>\n",
              "      <td>0.107872</td>\n",
              "      <td>112.857352</td>\n",
              "      <td>0.513604</td>\n",
              "      <td>20.859882</td>\n",
              "      <td>7</td>\n",
              "    </tr>\n",
              "    <tr>\n",
              "      <th>4</th>\n",
              "      <td>1</td>\n",
              "      <td>a cappella</td>\n",
              "      <td>0.676557</td>\n",
              "      <td>0.538961</td>\n",
              "      <td>1.906285e+05</td>\n",
              "      <td>0.316434</td>\n",
              "      <td>0.003003</td>\n",
              "      <td>0.172254</td>\n",
              "      <td>-12.479387</td>\n",
              "      <td>0.082851</td>\n",
              "      <td>112.110362</td>\n",
              "      <td>0.448249</td>\n",
              "      <td>45.820071</td>\n",
              "      <td>7</td>\n",
              "    </tr>\n",
              "  </tbody>\n",
              "</table>\n",
              "</div>"
            ],
            "text/plain": [
              "   mode                  genres  acousticness  ...   valence  popularity  key\n",
              "0     1  21st century classical      0.979333  ...  0.103783   27.833333    6\n",
              "1     1                   432hz      0.494780  ...  0.221750   52.500000    5\n",
              "2     1                   8-bit      0.762000  ...  0.975000   48.000000    7\n",
              "3     1                      []      0.651417  ...  0.513604   20.859882    7\n",
              "4     1              a cappella      0.676557  ...  0.448249   45.820071    7\n",
              "\n",
              "[5 rows x 14 columns]"
            ]
          },
          "metadata": {
            "tags": []
          }
        }
      ]
    },
    {
      "cell_type": "markdown",
      "metadata": {
        "id": "BIMmK7XbAPh2"
      },
      "source": [
        "# 2. Pré Processamento\n",
        "É importante explicar um pouco sobre algumas colunas presentes no dataset, como tempo e duration_ms.\n",
        "\n",
        "* Tempo:\n",
        "* Duration_ms: Duração da música ou do áudio, então não faz sentido ter durações igual a zero. Então iremos retirar, caso exista\n",
        "* Mode: é uma coluna considerada dummy e não acrescenta muito, sendo assim será retirada"
      ]
    },
    {
      "cell_type": "code",
      "metadata": {
        "id": "ufsxezwEAc2X",
        "colab": {
          "base_uri": "https://localhost:8080/",
          "height": 473
        },
        "outputId": "2df542c4-fc8d-462e-fb7f-b46d620ee009"
      },
      "source": [
        "df_data.loc[df_data['tempo'] == 0]"
      ],
      "execution_count": 72,
      "outputs": [
        {
          "output_type": "execute_result",
          "data": {
            "text/html": [
              "<div>\n",
              "<style scoped>\n",
              "    .dataframe tbody tr th:only-of-type {\n",
              "        vertical-align: middle;\n",
              "    }\n",
              "\n",
              "    .dataframe tbody tr th {\n",
              "        vertical-align: top;\n",
              "    }\n",
              "\n",
              "    .dataframe thead th {\n",
              "        text-align: right;\n",
              "    }\n",
              "</style>\n",
              "<table border=\"1\" class=\"dataframe\">\n",
              "  <thead>\n",
              "    <tr style=\"text-align: right;\">\n",
              "      <th></th>\n",
              "      <th>valence</th>\n",
              "      <th>year</th>\n",
              "      <th>acousticness</th>\n",
              "      <th>artists</th>\n",
              "      <th>danceability</th>\n",
              "      <th>duration_ms</th>\n",
              "      <th>energy</th>\n",
              "      <th>explicit</th>\n",
              "      <th>id</th>\n",
              "      <th>instrumentalness</th>\n",
              "      <th>key</th>\n",
              "      <th>liveness</th>\n",
              "      <th>loudness</th>\n",
              "      <th>mode</th>\n",
              "      <th>name</th>\n",
              "      <th>popularity</th>\n",
              "      <th>release_date</th>\n",
              "      <th>speechiness</th>\n",
              "      <th>tempo</th>\n",
              "    </tr>\n",
              "  </thead>\n",
              "  <tbody>\n",
              "    <tr>\n",
              "      <th>508</th>\n",
              "      <td>0.0</td>\n",
              "      <td>1924</td>\n",
              "      <td>0.99600</td>\n",
              "      <td>['Ignacio Corsini']</td>\n",
              "      <td>0.0</td>\n",
              "      <td>133947</td>\n",
              "      <td>0.025800</td>\n",
              "      <td>0</td>\n",
              "      <td>2WTtJDfCUjAyCZHRSfCLDn</td>\n",
              "      <td>0.76800</td>\n",
              "      <td>5</td>\n",
              "      <td>0.0831</td>\n",
              "      <td>-24.894</td>\n",
              "      <td>1</td>\n",
              "      <td>La Mina del Ford - Remasterizado</td>\n",
              "      <td>0</td>\n",
              "      <td>1924-03-29</td>\n",
              "      <td>0.0</td>\n",
              "      <td>0.0</td>\n",
              "    </tr>\n",
              "    <tr>\n",
              "      <th>591</th>\n",
              "      <td>0.0</td>\n",
              "      <td>1924</td>\n",
              "      <td>0.99600</td>\n",
              "      <td>['Francisco Canaro']</td>\n",
              "      <td>0.0</td>\n",
              "      <td>170253</td>\n",
              "      <td>0.315000</td>\n",
              "      <td>0</td>\n",
              "      <td>5tQsQaMquCXBREb1FNymi7</td>\n",
              "      <td>0.95600</td>\n",
              "      <td>8</td>\n",
              "      <td>0.3750</td>\n",
              "      <td>-15.969</td>\n",
              "      <td>0</td>\n",
              "      <td>Oh Mujer Mujer - Remasterizado</td>\n",
              "      <td>0</td>\n",
              "      <td>1924-07-12</td>\n",
              "      <td>0.0</td>\n",
              "      <td>0.0</td>\n",
              "    </tr>\n",
              "    <tr>\n",
              "      <th>2578</th>\n",
              "      <td>0.0</td>\n",
              "      <td>1934</td>\n",
              "      <td>0.00244</td>\n",
              "      <td>['The Moors']</td>\n",
              "      <td>0.0</td>\n",
              "      <td>14629</td>\n",
              "      <td>0.801000</td>\n",
              "      <td>0</td>\n",
              "      <td>29IVdlO7CSlcoOIpOsamkO</td>\n",
              "      <td>0.00125</td>\n",
              "      <td>4</td>\n",
              "      <td>0.0503</td>\n",
              "      <td>-0.671</td>\n",
              "      <td>0</td>\n",
              "      <td>Santa Claus Is Coming To Town</td>\n",
              "      <td>0</td>\n",
              "      <td>1934</td>\n",
              "      <td>0.0</td>\n",
              "      <td>0.0</td>\n",
              "    </tr>\n",
              "    <tr>\n",
              "      <th>2764</th>\n",
              "      <td>0.0</td>\n",
              "      <td>1935</td>\n",
              "      <td>0.93600</td>\n",
              "      <td>['Orquesta Francisco Canaro']</td>\n",
              "      <td>0.0</td>\n",
              "      <td>211880</td>\n",
              "      <td>0.202000</td>\n",
              "      <td>0</td>\n",
              "      <td>1QXbWUSsLWPtHrbZ7H8o9i</td>\n",
              "      <td>0.01370</td>\n",
              "      <td>6</td>\n",
              "      <td>0.1200</td>\n",
              "      <td>-12.399</td>\n",
              "      <td>1</td>\n",
              "      <td>Tu Y Yo</td>\n",
              "      <td>4</td>\n",
              "      <td>1935-01-01</td>\n",
              "      <td>0.0</td>\n",
              "      <td>0.0</td>\n",
              "    </tr>\n",
              "    <tr>\n",
              "      <th>3042</th>\n",
              "      <td>0.0</td>\n",
              "      <td>1937</td>\n",
              "      <td>0.89000</td>\n",
              "      <td>['Billie Holiday']</td>\n",
              "      <td>0.0</td>\n",
              "      <td>159600</td>\n",
              "      <td>0.281000</td>\n",
              "      <td>0</td>\n",
              "      <td>09eDRV4nzC3eVX7tDEJUNb</td>\n",
              "      <td>0.00000</td>\n",
              "      <td>10</td>\n",
              "      <td>0.2470</td>\n",
              "      <td>-13.078</td>\n",
              "      <td>1</td>\n",
              "      <td>Back In Your Own Backyard - Take 1</td>\n",
              "      <td>17</td>\n",
              "      <td>1937</td>\n",
              "      <td>0.0</td>\n",
              "      <td>0.0</td>\n",
              "    </tr>\n",
              "    <tr>\n",
              "      <th>...</th>\n",
              "      <td>...</td>\n",
              "      <td>...</td>\n",
              "      <td>...</td>\n",
              "      <td>...</td>\n",
              "      <td>...</td>\n",
              "      <td>...</td>\n",
              "      <td>...</td>\n",
              "      <td>...</td>\n",
              "      <td>...</td>\n",
              "      <td>...</td>\n",
              "      <td>...</td>\n",
              "      <td>...</td>\n",
              "      <td>...</td>\n",
              "      <td>...</td>\n",
              "      <td>...</td>\n",
              "      <td>...</td>\n",
              "      <td>...</td>\n",
              "      <td>...</td>\n",
              "      <td>...</td>\n",
              "    </tr>\n",
              "    <tr>\n",
              "      <th>169591</th>\n",
              "      <td>0.0</td>\n",
              "      <td>2015</td>\n",
              "      <td>0.46900</td>\n",
              "      <td>['$uicideBoy$']</td>\n",
              "      <td>0.0</td>\n",
              "      <td>153809</td>\n",
              "      <td>0.630000</td>\n",
              "      <td>1</td>\n",
              "      <td>00CutyaH2ljgLtM0nM5LLd</td>\n",
              "      <td>0.37500</td>\n",
              "      <td>2</td>\n",
              "      <td>0.1270</td>\n",
              "      <td>-6.707</td>\n",
              "      <td>1</td>\n",
              "      <td>Clouds As Witnesses</td>\n",
              "      <td>52</td>\n",
              "      <td>2015-03-03</td>\n",
              "      <td>0.0</td>\n",
              "      <td>0.0</td>\n",
              "    </tr>\n",
              "    <tr>\n",
              "      <th>169717</th>\n",
              "      <td>0.0</td>\n",
              "      <td>2016</td>\n",
              "      <td>0.12700</td>\n",
              "      <td>['Rain Sounds', 'Rain Sounds &amp; White Noise', '...</td>\n",
              "      <td>0.0</td>\n",
              "      <td>93452</td>\n",
              "      <td>0.000062</td>\n",
              "      <td>0</td>\n",
              "      <td>6HMSnRW8Htfd3YxdNgUF73</td>\n",
              "      <td>0.99900</td>\n",
              "      <td>9</td>\n",
              "      <td>0.7180</td>\n",
              "      <td>-18.685</td>\n",
              "      <td>1</td>\n",
              "      <td>Pouring Rain</td>\n",
              "      <td>54</td>\n",
              "      <td>2016-03-01</td>\n",
              "      <td>0.0</td>\n",
              "      <td>0.0</td>\n",
              "    </tr>\n",
              "    <tr>\n",
              "      <th>169935</th>\n",
              "      <td>0.0</td>\n",
              "      <td>2017</td>\n",
              "      <td>0.42000</td>\n",
              "      <td>['Granular']</td>\n",
              "      <td>0.0</td>\n",
              "      <td>180656</td>\n",
              "      <td>0.001720</td>\n",
              "      <td>0</td>\n",
              "      <td>03sJaTenPLeRaVUISW6pI5</td>\n",
              "      <td>0.39900</td>\n",
              "      <td>4</td>\n",
              "      <td>0.1100</td>\n",
              "      <td>-27.848</td>\n",
              "      <td>0</td>\n",
              "      <td>Pink Noise - BP 240 hz</td>\n",
              "      <td>61</td>\n",
              "      <td>2017-11-24</td>\n",
              "      <td>0.0</td>\n",
              "      <td>0.0</td>\n",
              "    </tr>\n",
              "    <tr>\n",
              "      <th>169968</th>\n",
              "      <td>0.0</td>\n",
              "      <td>2017</td>\n",
              "      <td>0.96200</td>\n",
              "      <td>['Fabricants']</td>\n",
              "      <td>0.0</td>\n",
              "      <td>175680</td>\n",
              "      <td>0.000020</td>\n",
              "      <td>0</td>\n",
              "      <td>4UYLGTJRGCt4KzP9r9Y9bH</td>\n",
              "      <td>0.02800</td>\n",
              "      <td>11</td>\n",
              "      <td>0.1370</td>\n",
              "      <td>-52.220</td>\n",
              "      <td>0</td>\n",
              "      <td>Brain Relaxation</td>\n",
              "      <td>57</td>\n",
              "      <td>2017-01-18</td>\n",
              "      <td>0.0</td>\n",
              "      <td>0.0</td>\n",
              "    </tr>\n",
              "    <tr>\n",
              "      <th>170187</th>\n",
              "      <td>0.0</td>\n",
              "      <td>2018</td>\n",
              "      <td>0.00212</td>\n",
              "      <td>['Noise for Healing', 'Noise Sleep Loops']</td>\n",
              "      <td>0.0</td>\n",
              "      <td>304880</td>\n",
              "      <td>0.000020</td>\n",
              "      <td>0</td>\n",
              "      <td>6bW6GIaja5aIc8CEjwTL5N</td>\n",
              "      <td>0.90500</td>\n",
              "      <td>1</td>\n",
              "      <td>0.4290</td>\n",
              "      <td>-18.756</td>\n",
              "      <td>1</td>\n",
              "      <td>Pink Noise Sleep Loop (Looped Sleep Pink Noise)</td>\n",
              "      <td>60</td>\n",
              "      <td>2018-01-08</td>\n",
              "      <td>0.0</td>\n",
              "      <td>0.0</td>\n",
              "    </tr>\n",
              "  </tbody>\n",
              "</table>\n",
              "<p>143 rows × 19 columns</p>\n",
              "</div>"
            ],
            "text/plain": [
              "        valence  year  acousticness  ... release_date  speechiness  tempo\n",
              "508         0.0  1924       0.99600  ...   1924-03-29          0.0    0.0\n",
              "591         0.0  1924       0.99600  ...   1924-07-12          0.0    0.0\n",
              "2578        0.0  1934       0.00244  ...         1934          0.0    0.0\n",
              "2764        0.0  1935       0.93600  ...   1935-01-01          0.0    0.0\n",
              "3042        0.0  1937       0.89000  ...         1937          0.0    0.0\n",
              "...         ...   ...           ...  ...          ...          ...    ...\n",
              "169591      0.0  2015       0.46900  ...   2015-03-03          0.0    0.0\n",
              "169717      0.0  2016       0.12700  ...   2016-03-01          0.0    0.0\n",
              "169935      0.0  2017       0.42000  ...   2017-11-24          0.0    0.0\n",
              "169968      0.0  2017       0.96200  ...   2017-01-18          0.0    0.0\n",
              "170187      0.0  2018       0.00212  ...   2018-01-08          0.0    0.0\n",
              "\n",
              "[143 rows x 19 columns]"
            ]
          },
          "metadata": {
            "tags": []
          },
          "execution_count": 72
        }
      ]
    },
    {
      "cell_type": "code",
      "metadata": {
        "id": "4sPQLvu0MtBv",
        "colab": {
          "base_uri": "https://localhost:8080/",
          "height": 47
        },
        "outputId": "e8bbc882-9bcc-4d5c-bd1b-e602c4830e02"
      },
      "source": [
        "df_data.loc[df_data['duration_ms'] == 0]"
      ],
      "execution_count": 73,
      "outputs": [
        {
          "output_type": "execute_result",
          "data": {
            "text/html": [
              "<div>\n",
              "<style scoped>\n",
              "    .dataframe tbody tr th:only-of-type {\n",
              "        vertical-align: middle;\n",
              "    }\n",
              "\n",
              "    .dataframe tbody tr th {\n",
              "        vertical-align: top;\n",
              "    }\n",
              "\n",
              "    .dataframe thead th {\n",
              "        text-align: right;\n",
              "    }\n",
              "</style>\n",
              "<table border=\"1\" class=\"dataframe\">\n",
              "  <thead>\n",
              "    <tr style=\"text-align: right;\">\n",
              "      <th></th>\n",
              "      <th>valence</th>\n",
              "      <th>year</th>\n",
              "      <th>acousticness</th>\n",
              "      <th>artists</th>\n",
              "      <th>danceability</th>\n",
              "      <th>duration_ms</th>\n",
              "      <th>energy</th>\n",
              "      <th>explicit</th>\n",
              "      <th>id</th>\n",
              "      <th>instrumentalness</th>\n",
              "      <th>key</th>\n",
              "      <th>liveness</th>\n",
              "      <th>loudness</th>\n",
              "      <th>mode</th>\n",
              "      <th>name</th>\n",
              "      <th>popularity</th>\n",
              "      <th>release_date</th>\n",
              "      <th>speechiness</th>\n",
              "      <th>tempo</th>\n",
              "    </tr>\n",
              "  </thead>\n",
              "  <tbody>\n",
              "  </tbody>\n",
              "</table>\n",
              "</div>"
            ],
            "text/plain": [
              "Empty DataFrame\n",
              "Columns: [valence, year, acousticness, artists, danceability, duration_ms, energy, explicit, id, instrumentalness, key, liveness, loudness, mode, name, popularity, release_date, speechiness, tempo]\n",
              "Index: []"
            ]
          },
          "metadata": {
            "tags": []
          },
          "execution_count": 73
        }
      ]
    },
    {
      "cell_type": "code",
      "metadata": {
        "id": "tinw_GysNZLH",
        "colab": {
          "base_uri": "https://localhost:8080/",
          "height": 47
        },
        "outputId": "f0f296dc-ef9a-491d-b969-3674d9717484"
      },
      "source": [
        "df_data.loc[df_data['year'] == 0]"
      ],
      "execution_count": 74,
      "outputs": [
        {
          "output_type": "execute_result",
          "data": {
            "text/html": [
              "<div>\n",
              "<style scoped>\n",
              "    .dataframe tbody tr th:only-of-type {\n",
              "        vertical-align: middle;\n",
              "    }\n",
              "\n",
              "    .dataframe tbody tr th {\n",
              "        vertical-align: top;\n",
              "    }\n",
              "\n",
              "    .dataframe thead th {\n",
              "        text-align: right;\n",
              "    }\n",
              "</style>\n",
              "<table border=\"1\" class=\"dataframe\">\n",
              "  <thead>\n",
              "    <tr style=\"text-align: right;\">\n",
              "      <th></th>\n",
              "      <th>valence</th>\n",
              "      <th>year</th>\n",
              "      <th>acousticness</th>\n",
              "      <th>artists</th>\n",
              "      <th>danceability</th>\n",
              "      <th>duration_ms</th>\n",
              "      <th>energy</th>\n",
              "      <th>explicit</th>\n",
              "      <th>id</th>\n",
              "      <th>instrumentalness</th>\n",
              "      <th>key</th>\n",
              "      <th>liveness</th>\n",
              "      <th>loudness</th>\n",
              "      <th>mode</th>\n",
              "      <th>name</th>\n",
              "      <th>popularity</th>\n",
              "      <th>release_date</th>\n",
              "      <th>speechiness</th>\n",
              "      <th>tempo</th>\n",
              "    </tr>\n",
              "  </thead>\n",
              "  <tbody>\n",
              "  </tbody>\n",
              "</table>\n",
              "</div>"
            ],
            "text/plain": [
              "Empty DataFrame\n",
              "Columns: [valence, year, acousticness, artists, danceability, duration_ms, energy, explicit, id, instrumentalness, key, liveness, loudness, mode, name, popularity, release_date, speechiness, tempo]\n",
              "Index: []"
            ]
          },
          "metadata": {
            "tags": []
          },
          "execution_count": 74
        }
      ]
    },
    {
      "cell_type": "markdown",
      "metadata": {
        "id": "iZk5f2VcIpsm"
      },
      "source": [
        "\n",
        "O dataset df_data, possuem em torno de `170653 rows` e as linhas com o `tempo == 0`, são apenas 143. Assim, não iremos retirar essas linhas dado que são poucas. Enquanto isso, não temos nenhuma linha com `duration_ms == 0` ou `year == 0`\n",
        "\n",
        "Retirada de colunas consideradas dummy no dataset, visto que não iremos utiliza-las"
      ]
    },
    {
      "cell_type": "markdown",
      "metadata": {
        "id": "sSPVFRkBTfKj"
      },
      "source": [
        "## Adicionando dataset de gênero\n",
        "Dado que o dataset `df_data` não possue os gêneros das músicas e o nosso objetivo é analisar a popularidade dos generos com o passar dos anos, iremos adicionar o dataset `data_by_artists`. \n",
        "Para isso iremos limpar os dados de artista e genero, utilizando apenas o primeiro artista e o primeiro genero da lista, visto que esses atributos eram objetos.\n"
      ]
    },
    {
      "cell_type": "code",
      "metadata": {
        "id": "XJM-Hlvf7lRp"
      },
      "source": [
        "df_data['first_artist'] = df_data.artists.map(lambda x: x.split(\",\")[0][1:].replace('[','').replace(']','').replace(\"'\",''))\n",
        "df_data_by_artist['first_genre'] = df_data_by_artist.genres.map(lambda x: x.split(\",\")[0][1:].replace('[','').replace(']','').replace(\"'\",''))"
      ],
      "execution_count": 75,
      "outputs": []
    },
    {
      "cell_type": "code",
      "metadata": {
        "colab": {
          "base_uri": "https://localhost:8080/",
          "height": 617
        },
        "id": "jtiN_Z4_AVmF",
        "outputId": "807658ad-44b5-48c2-afa2-55c1bbba43eb"
      },
      "source": [
        "df = pd.merge(df_data, df_data_by_artist[['artists','first_genre']], left_on='first_artist', right_on='artists', how='inner', suffixes=('_data','_by_artist'))\n",
        "df.head()"
      ],
      "execution_count": 76,
      "outputs": [
        {
          "output_type": "execute_result",
          "data": {
            "text/html": [
              "<div>\n",
              "<style scoped>\n",
              "    .dataframe tbody tr th:only-of-type {\n",
              "        vertical-align: middle;\n",
              "    }\n",
              "\n",
              "    .dataframe tbody tr th {\n",
              "        vertical-align: top;\n",
              "    }\n",
              "\n",
              "    .dataframe thead th {\n",
              "        text-align: right;\n",
              "    }\n",
              "</style>\n",
              "<table border=\"1\" class=\"dataframe\">\n",
              "  <thead>\n",
              "    <tr style=\"text-align: right;\">\n",
              "      <th></th>\n",
              "      <th>valence</th>\n",
              "      <th>year</th>\n",
              "      <th>acousticness</th>\n",
              "      <th>artists_data</th>\n",
              "      <th>danceability</th>\n",
              "      <th>duration_ms</th>\n",
              "      <th>energy</th>\n",
              "      <th>explicit</th>\n",
              "      <th>id</th>\n",
              "      <th>instrumentalness</th>\n",
              "      <th>key</th>\n",
              "      <th>liveness</th>\n",
              "      <th>loudness</th>\n",
              "      <th>mode</th>\n",
              "      <th>name</th>\n",
              "      <th>popularity</th>\n",
              "      <th>release_date</th>\n",
              "      <th>speechiness</th>\n",
              "      <th>tempo</th>\n",
              "      <th>first_artist</th>\n",
              "      <th>artists_by_artist</th>\n",
              "      <th>first_genre</th>\n",
              "    </tr>\n",
              "  </thead>\n",
              "  <tbody>\n",
              "    <tr>\n",
              "      <th>0</th>\n",
              "      <td>0.0594</td>\n",
              "      <td>1921</td>\n",
              "      <td>0.982</td>\n",
              "      <td>['Sergei Rachmaninoff', 'James Levine', 'Berli...</td>\n",
              "      <td>0.279</td>\n",
              "      <td>831667</td>\n",
              "      <td>0.2110</td>\n",
              "      <td>0</td>\n",
              "      <td>4BJqT0PrAfrxzMOxytFOIz</td>\n",
              "      <td>0.878</td>\n",
              "      <td>10</td>\n",
              "      <td>0.665</td>\n",
              "      <td>-20.096</td>\n",
              "      <td>1</td>\n",
              "      <td>Piano Concerto No. 3 in D Minor, Op. 30: III. ...</td>\n",
              "      <td>4</td>\n",
              "      <td>1921</td>\n",
              "      <td>0.0366</td>\n",
              "      <td>80.954</td>\n",
              "      <td>Sergei Rachmaninoff</td>\n",
              "      <td>Sergei Rachmaninoff</td>\n",
              "      <td>classical</td>\n",
              "    </tr>\n",
              "    <tr>\n",
              "      <th>1</th>\n",
              "      <td>0.0731</td>\n",
              "      <td>1921</td>\n",
              "      <td>0.993</td>\n",
              "      <td>['Sergei Rachmaninoff']</td>\n",
              "      <td>0.389</td>\n",
              "      <td>218773</td>\n",
              "      <td>0.0880</td>\n",
              "      <td>0</td>\n",
              "      <td>02GDntOXexBFUvSgaXLPkd</td>\n",
              "      <td>0.527</td>\n",
              "      <td>1</td>\n",
              "      <td>0.363</td>\n",
              "      <td>-21.091</td>\n",
              "      <td>0</td>\n",
              "      <td>Morceaux de fantaisie, Op. 3: No. 2, Prélude i...</td>\n",
              "      <td>2</td>\n",
              "      <td>1921</td>\n",
              "      <td>0.0456</td>\n",
              "      <td>92.867</td>\n",
              "      <td>Sergei Rachmaninoff</td>\n",
              "      <td>Sergei Rachmaninoff</td>\n",
              "      <td>classical</td>\n",
              "    </tr>\n",
              "    <tr>\n",
              "      <th>2</th>\n",
              "      <td>0.2820</td>\n",
              "      <td>1921</td>\n",
              "      <td>0.989</td>\n",
              "      <td>['Sergei Rachmaninoff', 'Ruth Laredo']</td>\n",
              "      <td>0.384</td>\n",
              "      <td>221013</td>\n",
              "      <td>0.1710</td>\n",
              "      <td>0</td>\n",
              "      <td>0NFeJgmTAV1kDfzSQNK41Z</td>\n",
              "      <td>0.820</td>\n",
              "      <td>7</td>\n",
              "      <td>0.116</td>\n",
              "      <td>-20.476</td>\n",
              "      <td>0</td>\n",
              "      <td>10 Préludes, Op. 23: No. 5 in G Minor. Alla ma...</td>\n",
              "      <td>4</td>\n",
              "      <td>1921</td>\n",
              "      <td>0.0319</td>\n",
              "      <td>107.698</td>\n",
              "      <td>Sergei Rachmaninoff</td>\n",
              "      <td>Sergei Rachmaninoff</td>\n",
              "      <td>classical</td>\n",
              "    </tr>\n",
              "    <tr>\n",
              "      <th>3</th>\n",
              "      <td>0.0731</td>\n",
              "      <td>1921</td>\n",
              "      <td>0.993</td>\n",
              "      <td>['Sergei Rachmaninoff']</td>\n",
              "      <td>0.389</td>\n",
              "      <td>218773</td>\n",
              "      <td>0.0880</td>\n",
              "      <td>0</td>\n",
              "      <td>0eQsdik7GTEy7M3UytCbSN</td>\n",
              "      <td>0.527</td>\n",
              "      <td>1</td>\n",
              "      <td>0.363</td>\n",
              "      <td>-21.091</td>\n",
              "      <td>0</td>\n",
              "      <td>Morceaux de fantaisie, Op. 3: No. 2, Prélude i...</td>\n",
              "      <td>0</td>\n",
              "      <td>1921</td>\n",
              "      <td>0.0456</td>\n",
              "      <td>92.867</td>\n",
              "      <td>Sergei Rachmaninoff</td>\n",
              "      <td>Sergei Rachmaninoff</td>\n",
              "      <td>classical</td>\n",
              "    </tr>\n",
              "    <tr>\n",
              "      <th>4</th>\n",
              "      <td>0.0770</td>\n",
              "      <td>1921</td>\n",
              "      <td>0.994</td>\n",
              "      <td>['Sergei Rachmaninoff', 'Ruth Laredo']</td>\n",
              "      <td>0.248</td>\n",
              "      <td>117467</td>\n",
              "      <td>0.0876</td>\n",
              "      <td>0</td>\n",
              "      <td>1Pb4ebTZ4t8erRbLPPb8Pk</td>\n",
              "      <td>0.907</td>\n",
              "      <td>5</td>\n",
              "      <td>0.165</td>\n",
              "      <td>-25.786</td>\n",
              "      <td>1</td>\n",
              "      <td>6 Songs, Op. 38: No. 3, Daisies (Version for P...</td>\n",
              "      <td>1</td>\n",
              "      <td>1921</td>\n",
              "      <td>0.0566</td>\n",
              "      <td>82.025</td>\n",
              "      <td>Sergei Rachmaninoff</td>\n",
              "      <td>Sergei Rachmaninoff</td>\n",
              "      <td>classical</td>\n",
              "    </tr>\n",
              "  </tbody>\n",
              "</table>\n",
              "</div>"
            ],
            "text/plain": [
              "   valence  year  ...    artists_by_artist first_genre\n",
              "0   0.0594  1921  ...  Sergei Rachmaninoff   classical\n",
              "1   0.0731  1921  ...  Sergei Rachmaninoff   classical\n",
              "2   0.2820  1921  ...  Sergei Rachmaninoff   classical\n",
              "3   0.0731  1921  ...  Sergei Rachmaninoff   classical\n",
              "4   0.0770  1921  ...  Sergei Rachmaninoff   classical\n",
              "\n",
              "[5 rows x 22 columns]"
            ]
          },
          "metadata": {
            "tags": []
          },
          "execution_count": 76
        }
      ]
    },
    {
      "cell_type": "markdown",
      "metadata": {
        "id": "1OpXJUPR3qT3"
      },
      "source": [
        "## Análise de correlações\n"
      ]
    },
    {
      "cell_type": "code",
      "metadata": {
        "id": "-VYSN1hb4B-X",
        "colab": {
          "base_uri": "https://localhost:8080/",
          "height": 575
        },
        "outputId": "246c3a1a-a352-4e59-efe8-86b998dc08cf"
      },
      "source": [
        "corr = df.corr(method='pearson')\n",
        "plt.figure(figsize=(14,8))\n",
        "sns.heatmap(corr, annot= True)\n",
        "plt.title('Correlação')\n",
        "plt.show()"
      ],
      "execution_count": 77,
      "outputs": [
        {
          "output_type": "display_data",
          "data": {
            "image/png": "[encoded data removed]",
            "text/plain": [
              "<Figure size 1008x576 with 2 Axes>"
            ]
          },
          "metadata": {
            "tags": [],
            "needs_background": "light"
          }
        }
      ]
    },
    {
      "cell_type": "markdown",
      "metadata": {
        "id": "ZqN4Avlf5ijN"
      },
      "source": [
        "Podemos observar alguns campos com correção muito baixa com o campo popularidade, como valence, explicit, key, liveness, loudness, mode. Com isso, vamos retirar essas colunas"
      ]
    },
    {
      "cell_type": "code",
      "metadata": {
        "id": "ENOYGQEu5XYy",
        "colab": {
          "base_uri": "https://localhost:8080/",
          "height": 575
        },
        "outputId": "c049a672-4030-4fa7-edda-56ea121842d3"
      },
      "source": [
        "df.drop(['valence', 'key', 'liveness', 'loudness', 'mode'], axis = 1, inplace=True)\n",
        "\n",
        "#### Nova correlação ####\n",
        "corr = df.corr(method='pearson')\n",
        "plt.figure(figsize=(14,8))\n",
        "sns.heatmap(corr, annot= True)\n",
        "plt.title('Correlação')\n",
        "plt.show()"
      ],
      "execution_count": 78,
      "outputs": [
        {
          "output_type": "display_data",
          "data": {
            "image/png": "[encoded data removed]",
            "text/plain": [
              "<Figure size 1008x576 with 2 Axes>"
            ]
          },
          "metadata": {
            "tags": [],
            "needs_background": "light"
          }
        }
      ]
    },
    {
      "cell_type": "markdown",
      "metadata": {
        "id": "qWwxyzVdHXio"
      },
      "source": [
        "## Normalização dos dados"
      ]
    },
    {
      "cell_type": "code",
      "metadata": {
        "id": "gS9oD6fvGPF8"
      },
      "source": [
        "df[\"popularity\"] = (df[\"popularity\"] - df[\"popularity\"].min()) / (df[\"popularity\"].max() - df[\"popularity\"].min())"
      ],
      "execution_count": 79,
      "outputs": []
    },
    {
      "cell_type": "code",
      "metadata": {
        "id": "F8v5Ijh6G2aQ"
      },
      "source": [
        "df[\"danceability\"] = (df[\"danceability\"] - df[\"danceability\"].min()) / (df[\"danceability\"].max() - df[\"danceability\"].min())"
      ],
      "execution_count": 82,
      "outputs": []
    },
    {
      "cell_type": "code",
      "metadata": {
        "id": "oKqNp3fyG2uh"
      },
      "source": [
        "df[\"energy\"] = (df[\"energy\"] - df[\"energy\"].min()) / (df[\"energy\"].max() - df[\"energy\"].min())"
      ],
      "execution_count": 83,
      "outputs": []
    },
    {
      "cell_type": "markdown",
      "metadata": {
        "id": "6gkNFd7GEIeS"
      },
      "source": [
        "# Estatísticas descritivas dos dados\n",
        "# Visualizações"
      ]
    },
    {
      "cell_type": "code",
      "metadata": {
        "id": "SfLRRkFtFvNC",
        "outputId": "c32fe73b-a6a8-4c80-80b3-d8c48a682ae7",
        "colab": {
          "base_uri": "https://localhost:8080/",
          "height": 287
        }
      },
      "source": [
        "year_avg= df.groupby('year').mean()\n",
        "year_avg.head(6)\n",
        "year_avg.describe()"
      ],
      "execution_count": 85,
      "outputs": [
        {
          "output_type": "execute_result",
          "data": {
            "text/html": [
              "<div>\n",
              "<style scoped>\n",
              "    .dataframe tbody tr th:only-of-type {\n",
              "        vertical-align: middle;\n",
              "    }\n",
              "\n",
              "    .dataframe tbody tr th {\n",
              "        vertical-align: top;\n",
              "    }\n",
              "\n",
              "    .dataframe thead th {\n",
              "        text-align: right;\n",
              "    }\n",
              "</style>\n",
              "<table border=\"1\" class=\"dataframe\">\n",
              "  <thead>\n",
              "    <tr style=\"text-align: right;\">\n",
              "      <th></th>\n",
              "      <th>acousticness</th>\n",
              "      <th>danceability</th>\n",
              "      <th>duration_ms</th>\n",
              "      <th>energy</th>\n",
              "      <th>explicit</th>\n",
              "      <th>instrumentalness</th>\n",
              "      <th>popularity</th>\n",
              "      <th>speechiness</th>\n",
              "      <th>tempo</th>\n",
              "    </tr>\n",
              "  </thead>\n",
              "  <tbody>\n",
              "    <tr>\n",
              "      <th>count</th>\n",
              "      <td>100.000000</td>\n",
              "      <td>100.000000</td>\n",
              "      <td>100.000000</td>\n",
              "      <td>100.000000</td>\n",
              "      <td>100.000000</td>\n",
              "      <td>100.000000</td>\n",
              "      <td>100.000000</td>\n",
              "      <td>100.000000</td>\n",
              "      <td>100.000000</td>\n",
              "    </tr>\n",
              "    <tr>\n",
              "      <th>mean</th>\n",
              "      <td>0.556329</td>\n",
              "      <td>0.542957</td>\n",
              "      <td>227323.894808</td>\n",
              "      <td>0.452699</td>\n",
              "      <td>0.078418</td>\n",
              "      <td>0.193654</td>\n",
              "      <td>0.273745</td>\n",
              "      <td>0.105949</td>\n",
              "      <td>116.009940</td>\n",
              "    </tr>\n",
              "    <tr>\n",
              "      <th>std</th>\n",
              "      <td>0.275455</td>\n",
              "      <td>0.053141</td>\n",
              "      <td>25586.999693</td>\n",
              "      <td>0.161998</td>\n",
              "      <td>0.113437</td>\n",
              "      <td>0.122592</td>\n",
              "      <td>0.207107</td>\n",
              "      <td>0.082393</td>\n",
              "      <td>5.698193</td>\n",
              "    </tr>\n",
              "    <tr>\n",
              "      <th>min</th>\n",
              "      <td>0.220221</td>\n",
              "      <td>0.419091</td>\n",
              "      <td>156881.657475</td>\n",
              "      <td>0.206506</td>\n",
              "      <td>0.000000</td>\n",
              "      <td>0.016408</td>\n",
              "      <td>0.001408</td>\n",
              "      <td>0.049177</td>\n",
              "      <td>100.884521</td>\n",
              "    </tr>\n",
              "    <tr>\n",
              "      <th>25%</th>\n",
              "      <td>0.289669</td>\n",
              "      <td>0.506469</td>\n",
              "      <td>210850.363799</td>\n",
              "      <td>0.280652</td>\n",
              "      <td>0.000000</td>\n",
              "      <td>0.104027</td>\n",
              "      <td>0.032923</td>\n",
              "      <td>0.064139</td>\n",
              "      <td>111.633059</td>\n",
              "    </tr>\n",
              "    <tr>\n",
              "      <th>50%</th>\n",
              "      <td>0.460413</td>\n",
              "      <td>0.546624</td>\n",
              "      <td>234846.987599</td>\n",
              "      <td>0.495276</td>\n",
              "      <td>0.014135</td>\n",
              "      <td>0.128686</td>\n",
              "      <td>0.336078</td>\n",
              "      <td>0.085481</td>\n",
              "      <td>117.497672</td>\n",
              "    </tr>\n",
              "    <tr>\n",
              "      <th>75%</th>\n",
              "      <td>0.856814</td>\n",
              "      <td>0.578507</td>\n",
              "      <td>247275.107056</td>\n",
              "      <td>0.596982</td>\n",
              "      <td>0.139143</td>\n",
              "      <td>0.275247</td>\n",
              "      <td>0.449503</td>\n",
              "      <td>0.104513</td>\n",
              "      <td>120.597594</td>\n",
              "    </tr>\n",
              "    <tr>\n",
              "      <th>max</th>\n",
              "      <td>0.962410</td>\n",
              "      <td>0.701510</td>\n",
              "      <td>267839.484602</td>\n",
              "      <td>0.681382</td>\n",
              "      <td>0.495064</td>\n",
              "      <td>0.583888</td>\n",
              "      <td>0.652687</td>\n",
              "      <td>0.490479</td>\n",
              "      <td>124.298954</td>\n",
              "    </tr>\n",
              "  </tbody>\n",
              "</table>\n",
              "</div>"
            ],
            "text/plain": [
              "       acousticness  danceability  ...  speechiness       tempo\n",
              "count    100.000000    100.000000  ...   100.000000  100.000000\n",
              "mean       0.556329      0.542957  ...     0.105949  116.009940\n",
              "std        0.275455      0.053141  ...     0.082393    5.698193\n",
              "min        0.220221      0.419091  ...     0.049177  100.884521\n",
              "25%        0.289669      0.506469  ...     0.064139  111.633059\n",
              "50%        0.460413      0.546624  ...     0.085481  117.497672\n",
              "75%        0.856814      0.578507  ...     0.104513  120.597594\n",
              "max        0.962410      0.701510  ...     0.490479  124.298954\n",
              "\n",
              "[8 rows x 9 columns]"
            ]
          },
          "metadata": {
            "tags": []
          },
          "execution_count": 85
        }
      ]
    },
    {
      "cell_type": "code",
      "metadata": {
        "id": "JsrYxjHpEHcd",
        "outputId": "59e86bf3-11ac-47fc-e094-66896a23e365",
        "colab": {
          "base_uri": "https://localhost:8080/",
          "height": 530
        }
      },
      "source": [
        "plt.figure(figsize=(14,8))\n",
        "plt.title('Mudança de dançabilidade e energia atraves do tempo')\n",
        "\n",
        "tempo_pop = ['danceability', 'energy', 'popularity']\n",
        "for i in tempo_pop:\n",
        "    ax = sns.lineplot(x='year', y = i , data = year_avg)\n",
        "\n",
        "plt.ylabel(\"value\")\n",
        "plt.legend(tempo_pop)"
      ],
      "execution_count": 86,
      "outputs": [
        {
          "output_type": "execute_result",
          "data": {
            "text/plain": [
              "<matplotlib.legend.Legend at 0x7f44804e7810>"
            ]
          },
          "metadata": {
            "tags": []
          },
          "execution_count": 86
        },
        {
          "output_type": "display_data",
          "data": {
            "image/png": "[encoded data removed]",
            "text/plain": [
              "<Figure size 1008x576 with 1 Axes>"
            ]
          },
          "metadata": {
            "tags": [],
            "needs_background": "light"
          }
        }
      ]
    },
    {
      "cell_type": "code",
      "metadata": {
        "id": "k-FN-EoRJIRR",
        "outputId": "1ba5bb66-1596-4b0a-9fbb-5035887fa1d5",
        "colab": {
          "base_uri": "https://localhost:8080/",
          "height": 257
        }
      },
      "source": [
        "year_genre_avg= df.groupby('first_genre').mean()\n",
        "year_genre_avg.head(6)\n"
      ],
      "execution_count": 94,
      "outputs": [
        {
          "output_type": "execute_result",
          "data": {
            "text/html": [
              "<div>\n",
              "<style scoped>\n",
              "    .dataframe tbody tr th:only-of-type {\n",
              "        vertical-align: middle;\n",
              "    }\n",
              "\n",
              "    .dataframe tbody tr th {\n",
              "        vertical-align: top;\n",
              "    }\n",
              "\n",
              "    .dataframe thead th {\n",
              "        text-align: right;\n",
              "    }\n",
              "</style>\n",
              "<table border=\"1\" class=\"dataframe\">\n",
              "  <thead>\n",
              "    <tr style=\"text-align: right;\">\n",
              "      <th></th>\n",
              "      <th>year</th>\n",
              "      <th>acousticness</th>\n",
              "      <th>danceability</th>\n",
              "      <th>duration_ms</th>\n",
              "      <th>energy</th>\n",
              "      <th>explicit</th>\n",
              "      <th>instrumentalness</th>\n",
              "      <th>popularity</th>\n",
              "      <th>speechiness</th>\n",
              "      <th>tempo</th>\n",
              "    </tr>\n",
              "    <tr>\n",
              "      <th>first_genre</th>\n",
              "      <th></th>\n",
              "      <th></th>\n",
              "      <th></th>\n",
              "      <th></th>\n",
              "      <th></th>\n",
              "      <th></th>\n",
              "      <th></th>\n",
              "      <th></th>\n",
              "      <th></th>\n",
              "      <th></th>\n",
              "    </tr>\n",
              "  </thead>\n",
              "  <tbody>\n",
              "    <tr>\n",
              "      <th></th>\n",
              "      <td>1951.247412</td>\n",
              "      <td>0.690745</td>\n",
              "      <td>0.563705</td>\n",
              "      <td>193002.170485</td>\n",
              "      <td>0.333756</td>\n",
              "      <td>0.157693</td>\n",
              "      <td>0.218910</td>\n",
              "      <td>0.078029</td>\n",
              "      <td>0.271269</td>\n",
              "      <td>111.045288</td>\n",
              "    </tr>\n",
              "    <tr>\n",
              "      <th>\"australian childrens music\"</th>\n",
              "      <td>1998.777778</td>\n",
              "      <td>0.311449</td>\n",
              "      <td>0.697200</td>\n",
              "      <td>107161.944444</td>\n",
              "      <td>0.578278</td>\n",
              "      <td>0.000000</td>\n",
              "      <td>0.000042</td>\n",
              "      <td>0.450000</td>\n",
              "      <td>0.085044</td>\n",
              "      <td>140.480111</td>\n",
              "    </tr>\n",
              "    <tr>\n",
              "      <th>\"black n roll\"</th>\n",
              "      <td>1993.666667</td>\n",
              "      <td>0.006651</td>\n",
              "      <td>0.187922</td>\n",
              "      <td>416115.666667</td>\n",
              "      <td>0.912333</td>\n",
              "      <td>0.666667</td>\n",
              "      <td>0.151740</td>\n",
              "      <td>0.433333</td>\n",
              "      <td>0.108667</td>\n",
              "      <td>140.600333</td>\n",
              "    </tr>\n",
              "    <tr>\n",
              "      <th>\"british childrens music\"</th>\n",
              "      <td>2001.000000</td>\n",
              "      <td>0.098800</td>\n",
              "      <td>0.917004</td>\n",
              "      <td>30946.000000</td>\n",
              "      <td>0.596000</td>\n",
              "      <td>0.000000</td>\n",
              "      <td>0.000059</td>\n",
              "      <td>0.530000</td>\n",
              "      <td>0.046300</td>\n",
              "      <td>98.980000</td>\n",
              "    </tr>\n",
              "    <tr>\n",
              "      <th>\"canadian childrens music\"</th>\n",
              "      <td>1983.358333</td>\n",
              "      <td>0.669617</td>\n",
              "      <td>0.672891</td>\n",
              "      <td>125269.100000</td>\n",
              "      <td>0.239429</td>\n",
              "      <td>0.000000</td>\n",
              "      <td>0.033487</td>\n",
              "      <td>0.356583</td>\n",
              "      <td>0.110202</td>\n",
              "      <td>116.379550</td>\n",
              "    </tr>\n",
              "    <tr>\n",
              "      <th>\"canzone dautore\"</th>\n",
              "      <td>1975.297872</td>\n",
              "      <td>0.505391</td>\n",
              "      <td>0.486993</td>\n",
              "      <td>260423.893617</td>\n",
              "      <td>0.424149</td>\n",
              "      <td>0.000000</td>\n",
              "      <td>0.004412</td>\n",
              "      <td>0.500213</td>\n",
              "      <td>0.067132</td>\n",
              "      <td>115.356766</td>\n",
              "    </tr>\n",
              "  </tbody>\n",
              "</table>\n",
              "</div>"
            ],
            "text/plain": [
              "                                     year  ...       tempo\n",
              "first_genre                                ...            \n",
              "                              1951.247412  ...  111.045288\n",
              "\"australian childrens music\"  1998.777778  ...  140.480111\n",
              "\"black n roll\"                1993.666667  ...  140.600333\n",
              "\"british childrens music\"     2001.000000  ...   98.980000\n",
              "\"canadian childrens music\"    1983.358333  ...  116.379550\n",
              "\"canzone dautore\"             1975.297872  ...  115.356766\n",
              "\n",
              "[6 rows x 10 columns]"
            ]
          },
          "metadata": {
            "tags": []
          },
          "execution_count": 94
        }
      ]
    },
    {
      "cell_type": "code",
      "metadata": {
        "id": "7XTTCnkTHw5h"
      },
      "source": [
        "fig = plt.figure()\n",
        "ax = fig.add_subplot(projection='3d')\n",
        "\n",
        "ax.scatter(df[\"year\"],df[\"popularity\"],df[\"first_genre\"])\n",
        "\n",
        "ax.set_xlabel('year')\n",
        "ax.set_ylabel('popularity')\n",
        "ax.set_zlabel('first_genre')\n",
        "\n",
        "plt.show()"
      ],
      "execution_count": null,
      "outputs": []
    }
  ]
}